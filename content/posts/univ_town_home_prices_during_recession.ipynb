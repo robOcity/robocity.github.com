{
 "cells": [
  {
   "cell_type": "markdown",
   "metadata": {},
   "source": [
    "- title: How do college town home prices fare during recession?\n",
    "- slug: how-do-college-town-home-prices-fare-during-recession\n",
    "- date: 2019-05-30\n",
    "- author: Rob Osterburg\n",
    "- category: Data Science\n",
    "- tags: pandas, statistics, analysis wrangling"
   ]
  },
  {
   "cell_type": "markdown",
   "metadata": {},
   "source": [
    "During recession home prices suffer.  How do college towns compare to other communities?  Let's find out.  But first a few definitions.  \n",
    "\n",
    "* A _quarter_ is a specific three month period, Q1 is January through March, Q2 is April through June, Q3 is July through September, Q4 is October through December.\n",
    "\n",
    "* A _recession_ is defined as starting with two consecutive quarters of GDP decline, and ending with two consecutive quarters of GDP growth.\n",
    "\n",
    "* A _recession bottom_ is the quarter within a recession which had the lowest GDP.\n",
    "\n",
    "* A _university town_ is a city which has a high percentage of college students compared to the total population of the city."
   ]
  },
  {
   "cell_type": "markdown",
   "metadata": {},
   "source": [
    "## Hypothesis\n",
    "\n",
    "**College towns have their mean housing prices less effected by recessions. Run a t-test to compare the ratio of the mean price of houses in university towns the quarter before the recession starts compared to the recession bottom.  Values less than one show home price increases and greater than one show home price declines.**"
   ]
  },
  {
   "cell_type": "markdown",
   "metadata": {},
   "source": [
    "## Data\n",
    "\n",
    "* From the [Zillow research data site](http://www.zillow.com/research/data/) there is housing data for the United States. In particular the datafile for [all homes at a city level](http://files.zillowstatic.com/research/public/City/City_Zhvi_AllHomes.csv), ```zillow_homes_prices_by_city.csv```, has median home sale prices at a fine grained level.\n",
    "\n",
    "* From the Wikipedia page on college towns is a list of [college towns in the United States](https://en.wikipedia.org/wiki/List_of_college_towns#College_towns_in_the_United_States) which has been pasted into the file ```college_towns.txt```.\n",
    "\n",
    "* From Bureau of Economic Analysis, US Department of Commerce, the [GDP over time](http://www.bea.gov/national/index.htm#gdp) of the United States in current dollars (use the chained value in 2009 dollars), in quarterly intervals, in the file ```gdplev.xls```. For this project, I will only look at GDP data from the first quarter of 2000 onward."
   ]
  },
  {
   "cell_type": "code",
   "execution_count": null,
   "metadata": {
    "collapsed": true
   },
   "outputs": [],
   "source": [
    "import pandas as pd\n",
    "import numpy as np\n",
    "from scipy.stats import ttest_ind"
   ]
  },
  {
   "cell_type": "code",
   "execution_count": null,
   "metadata": {
    "collapsed": false
   },
   "outputs": [],
   "source": [
    "# Use fully spelled out place names\n",
    "states = {'OH': 'Ohio', 'KY': 'Kentucky', 'AS': 'American Samoa', 'NV': 'Nevada', 'WY': 'Wyoming', 'NA': 'National', 'AL': 'Alabama', 'MD': 'Maryland', 'AK': 'Alaska', 'UT': 'Utah', 'OR': 'Oregon', 'MT': 'Montana', 'IL': 'Illinois', 'TN': 'Tennessee', 'DC': 'District of Columbia', 'VT': 'Vermont', 'ID': 'Idaho', 'AR': 'Arkansas', 'ME': 'Maine', 'WA': 'Washington', 'HI': 'Hawaii', 'WI': 'Wisconsin', 'MI': 'Michigan', 'IN': 'Indiana', 'NJ': 'New Jersey', 'AZ': 'Arizona', 'GU': 'Guam', 'MS': 'Mississippi', 'PR': 'Puerto Rico', 'NC': 'North Carolina', 'TX': 'Texas', 'SD': 'South Dakota', 'MP': 'Northern Mariana Islands', 'IA': 'Iowa', 'MO': 'Missouri', 'CT': 'Connecticut', 'WV': 'West Virginia', 'SC': 'South Carolina', 'LA': 'Louisiana', 'KS': 'Kansas', 'NY': 'New York', 'NE': 'Nebraska', 'OK': 'Oklahoma', 'FL': 'Florida', 'CA': 'California', 'CO': 'Colorado', 'PA': 'Pennsylvania', 'DE': 'Delaware', 'NM': 'New Mexico', 'RI': 'Rhode Island', 'MN': 'Minnesota', 'VI': 'Virgin Islands', 'NH': 'New Hampshire', 'MA': 'Massachusetts', 'GA': 'Georgia', 'ND': 'North Dakota', 'VA': 'Virginia'}"
   ]
  },
  {
   "cell_type": "code",
   "execution_count": null,
   "metadata": {
    "collapsed": false
   },
   "outputs": [],
   "source": [
    "def get_list_of_university_towns():\n",
    "    \"\"\"Returns a DataFrame of towns and the states they are in from the \n",
    "    university_towns.txt list. The format of the DataFrame should be:\n",
    "    DataFrame( [ [\"Michigan\", \"Ann Arbor\"], [\"Michigan\", \"Yipsilanti\"] ], \n",
    "    columns=[\"State\", \"RegionName\"]  )\n",
    "    \n",
    "    The following cleaning needs to be done:\n",
    "\n",
    "    1. For \"State\", removing characters from \"[\" to the end.\n",
    "    2. For \"RegionName\", when applicable, removing every character from \" (\" to the end.\n",
    "    3. Depending on how you read the data, you may need to remove newline character '\\n'. \"\"\"\n",
    "    \n",
    "    towns_by_state = {}\n",
    "    towns = []\n",
    "    with open('data/college_towns.txt') as fin:\n",
    "        for line in fin:\n",
    "            if '[edit]' in line:\n",
    "                if len(towns) > 1:\n",
    "                    towns_by_state[state] = towns\n",
    "                state = line.split('[')[0].strip()\n",
    "                towns = []\n",
    "            elif (line.find(',') != -1) and (line.find('(') != -1) and (line.find(',') < line.find('(')) :\n",
    "                town = line.split(',')[0].strip()\n",
    "                towns.append(town)\n",
    "            elif line.find('(') != -1:\n",
    "                town = line.split('(')[0].strip()\n",
    "                towns.append(town)\n",
    "            elif line.find(',') != -1:\n",
    "                town = line.split(',')[0].strip()\n",
    "                towns.append(town)\n",
    "    state_town_tups = [tuple((state, town)) for state, towns in towns_by_state.items() for town in towns]\n",
    "    df = pd.DataFrame(data=state_town_tups, columns=['State', 'RegionName'])\n",
    "    df.State.map(states)\n",
    "    return df\n",
    "    "
   ]
  },
  {
   "cell_type": "code",
   "execution_count": null,
   "metadata": {
    "collapsed": false
   },
   "outputs": [],
   "source": [
    "get_list_of_university_towns().head()"
   ]
  },
  {
   "cell_type": "code",
   "execution_count": null,
   "metadata": {},
   "outputs": [],
   "source": [
    "def gdp_data():\n",
    "    \"\"\"Return a dataframe containing the quarterly GDP data expressed in 2009 dollars.\"\"\"\n",
    "    \n",
    "    df = pd.read_excel('data/gdplev.xls', \n",
    "        skiprows=7, \n",
    "        usecols=[4, 5, 6], \n",
    "        names=['qtr', 'gdp_curr', 'gdp_2009'])\n",
    "    return df\n",
    "\n",
    "gdp_data().head()"
   ]
  },
  {
   "cell_type": "code",
   "execution_count": null,
   "metadata": {},
   "outputs": [],
   "source": [
    "# better approach\n",
    "def qtr_to_prd(df):\n",
    "    \"\"\"Return the provided dataframe converting the quarterly dates expressed as strings \n",
    "    to Pandas' Period objects contained in the 'date' column, year in the 'year' column \n",
    "    and the number of the quarter in the 'qtr' column. \"\"\"\n",
    "    \n",
    "    df['date'] = pd.to_datetime(df.qtr).dt.to_period('q')\n",
    "    df['year'] = df['date'].dt.year\n",
    "    df['qtr'] = df['date'].dt.quarter\n",
    "    return df"
   ]
  },
  {
   "cell_type": "code",
   "execution_count": null,
   "metadata": {},
   "outputs": [],
   "source": [
    "qtr_to_prd(gdp_data()).head()"
   ]
  },
  {
   "cell_type": "code",
   "execution_count": null,
   "metadata": {},
   "outputs": [],
   "source": [
    "# an alternate approach using pandas \"str\" accessor\n",
    "def qrt_to_dt(df):\n",
    "    \"\"\"Return the provided dataframe converting the quarterly dates expressed as strings \n",
    "    to Pandas' Period objects contained in the 'date' column, year in the 'year' column \n",
    "    and the number of the quarter in the 'qtr' column. \"\"\"\n",
    "    \n",
    "    df['date'] = df.qtr.copy()\n",
    "    df[['year', 'qtr']] = df['qtr'].str.split('q', expand=True)\n",
    "    df.year = df.year.astype(int)\n",
    "    return df"
   ]
  },
  {
   "cell_type": "code",
   "execution_count": null,
   "metadata": {},
   "outputs": [],
   "source": [
    "def gdp_change(df):\n",
    "    \"\"\"Return a Series containing the differences between an element \n",
    "    and the value in the previous row of the gdp_2009 column.\"\"\"\n",
    "    \n",
    "    return df.gdp_2009.diff()"
   ]
  },
  {
   "cell_type": "code",
   "execution_count": null,
   "metadata": {},
   "outputs": [],
   "source": [
    "def is_increasing(df):\n",
    "    \"\"\"Return a Series of floating point values containing 1.0 if the value\n",
    "    in the 'delta' column is greater than 0, otherwise 0.0 is returned.\"\"\"\n",
    "    \n",
    "    return (df['delta'] > 0).astype(float)"
   ]
  },
  {
   "cell_type": "code",
   "execution_count": null,
   "metadata": {},
   "outputs": [],
   "source": [
    "df = gdp_data()\n",
    "df = qtr_to_prd(df).set_index('date')\n",
    "df['delta'] = gdp_change(df)\n",
    "df['increasing'] = is_increasing(df)\n",
    "df.head()"
   ]
  },
  {
   "cell_type": "code",
   "execution_count": null,
   "metadata": {},
   "outputs": [],
   "source": [
    "def recession_prep(df):\n",
    "    \"\"\"Return the dataframe with columns added that support analysis of recessions. \n",
    "    In particular, determine if GDP is increasing or decreasing by using the shift method\n",
    "    to create a Series of duplicated values that have been shifted by the number of\n",
    "    rows specified.  Together the shifted columns allow for the quarter in which a recession \n",
    "    starts and ends to be indentified.\"\"\"\n",
    "    \n",
    "    df = qtr_to_prd(df).set_index('date')\n",
    "    df['delta'] = gdp_change(df)\n",
    "    df['increasing'] = is_increasing(df)\n",
    "    df['prv1'] = df['increasing'].shift(1)  # look back one\n",
    "    df['prv2'] = df['increasing'].shift(2)\n",
    "    df['curr'] = df['increasing']\n",
    "    df['nxt1'] = df['increasing'].shift(-1) # look ahead one\n",
    "    df['nxt2'] = df['increasing'].shift(-2)\n",
    "    df['start'] = ((df['prv1']==1) & (df['curr']==0) & (df['nxt1']==0)).astype(float)\n",
    "    df['end']   = ((df['prv2']==0) & (df['prv1']==1) & (df['curr']==1)).astype(float)\n",
    "    return df\n",
    "\n",
    "recession_prep(gdp_data()).loc['2007q3':'2010q4']"
   ]
  },
  {
   "cell_type": "code",
   "execution_count": null,
   "metadata": {},
   "outputs": [],
   "source": [
    "def get_recessions(df):\n",
    "    \"\"\"Return list of tuples containing the starting and ending dates for recessions.\"\"\"\n",
    "    \n",
    "    df = df.loc['2000q1':]\n",
    "    recessions = []\n",
    "    is_recession = False\n",
    "    start, end = None, None\n",
    "    for index, row in df.iterrows():\n",
    "        if row['start'] == 1.0:\n",
    "            start = index\n",
    "            is_recession = True\n",
    "        elif is_recession and row['end'] == 1.0:\n",
    "            end = index\n",
    "            is_recession = False\n",
    "            recessions.append((start.strftime('%Yq%q'), end.strftime('%Yq%q')))\n",
    "    return recessions\n",
    "\n",
    "get_recessions(recession_prep(gdp_data()))"
   ]
  },
  {
   "cell_type": "code",
   "execution_count": null,
   "metadata": {
    "collapsed": false
   },
   "outputs": [],
   "source": [
    "def get_recession_start():\n",
    "    \"\"\"Returns the year and quarter of the recession start time as a \n",
    "    string value in a format such as 2005q3.\"\"\"\n",
    "    \n",
    "    # only one recession during this period, so no need to loop over start, end tuples\n",
    "    start, end = get_recessions(recession_prep(gdp_data()))[0]\n",
    "    return start\n",
    "\n",
    "get_recession_start()"
   ]
  },
  {
   "cell_type": "code",
   "execution_count": null,
   "metadata": {
    "collapsed": false
   },
   "outputs": [],
   "source": [
    "def get_recession_end():\n",
    "    \"\"\"Returns the year and quarter of the recession end time as a \n",
    "    string value in a format such as 2005q3.\"\"\"\n",
    "\n",
    "    # only one recession during this period, so no need to loop over start, end tuples\n",
    "    start, end = get_recessions(recession_prep(gdp_data()))[0]\n",
    "    return end\n",
    "\n",
    "get_recession_end()"
   ]
  },
  {
   "cell_type": "code",
   "execution_count": null,
   "metadata": {
    "collapsed": false
   },
   "outputs": [],
   "source": [
    "def get_recession_bottom():\n",
    "    \"\"\"Returns the year and quarter of the recession bottom time as a \n",
    "    string value in a format such as 2005q3.\"\"\"\n",
    "    \n",
    "    df = recession_prep(gdp_data())\n",
    "    start, end = get_recessions(df)[0]\n",
    "    return df.loc[start:end, 'gdp_2009'].idxmin().strftime('%Yq%q')\n",
    "\n",
    "get_recession_bottom()"
   ]
  },
  {
   "cell_type": "code",
   "execution_count": null,
   "metadata": {
    "collapsed": false
   },
   "outputs": [],
   "source": [
    "def convert_housing_data_to_quarters():\n",
    "    \"\"\"Converts the housing data to quarters and returns it as mean \n",
    "    values in a dataframe. This dataframe should be a dataframe with\n",
    "    columns for 2000q1 through 2016q3, and should have a multi-index\n",
    "    in the shape of [\"State\",\"RegionName\"].\n",
    "    \"\"\"\n",
    "    \n",
    "    df = pd.read_csv('data/zillow_homes_prices_by_city.csv', \n",
    "                 dtype={'RegionID': 'str', \n",
    "                        'RegionName': 'str', \n",
    "                        'State': 'str',\n",
    "                        'Metro': 'str',\n",
    "                        'CountyName': 'str',\n",
    "                        'SizeRank': 'int'})\n",
    "\n",
    "    region_id_df = df[['RegionID', 'RegionName', 'State', 'Metro', 'CountyName', 'SizeRank']]\n",
    "    region_id_df = region_id_df.assign(State=df.State.map(states))\n",
    "    region_id_df.head()\n",
    "\n",
    "    df = df.drop(['RegionName', 'State', 'Metro', 'CountyName', 'SizeRank'], axis=1)\n",
    "    df = pd.melt(df,\n",
    "                 id_vars=['RegionID'],\n",
    "                 var_name='Date',\n",
    "                 value_name='MedianSalesPrice')\n",
    "\n",
    "    df = df.set_index(pd.to_datetime(df.Date)).sort_index()\n",
    "    df = df.drop('Date', axis=1)\n",
    "    df = df.loc['2000-01-01':]\n",
    "\n",
    "    region_mean_df = df.reset_index().groupby([pd.Grouper(freq='Q', key='Date'), 'RegionID']).mean()\n",
    "\n",
    "    joined_df = pd.merge(region_id_df, region_mean_df.reset_index(), how='inner', on='RegionID')\n",
    "    \n",
    "    # Note: Pivoting on State and RegionName without RegionID reduces the number of rows to 10592.\n",
    "    #       Only by pivoting on all three and later dropping RegionID can I get the correct number of rows (10730)\n",
    "    #       Finding this was truely painful.\n",
    "    pivot_df = joined_df.pivot_table(index=['State', 'RegionID', 'RegionName'], columns='Date', values='MedianSalesPrice')\n",
    "    pivot_df.columns = [c.lower() for c in pivot_df.columns.to_period('Q').format()]\n",
    "    pivot_df.index = pivot_df.index.droplevel('RegionID')\n",
    "    \n",
    "    return pivot_df"
   ]
  },
  {
   "cell_type": "code",
   "execution_count": null,
   "metadata": {
    "collapsed": false
   },
   "outputs": [],
   "source": [
    "def run_ttest():\n",
    "    '''First creates new data showing the decline or growth of housing prices\n",
    "    between the recession start and the recession bottom. Then runs a ttest\n",
    "    comparing the university town values to the non-university towns values, \n",
    "    return whether the alternative hypothesis (that the two groups are the same)\n",
    "    is true or not as well as the p-value of the confidence. \n",
    "    \n",
    "    Return the tuple (different, p, better) where different=True if the t-test is\n",
    "    True at a p<0.01 (we reject the null hypothesis), or different=False if \n",
    "    otherwise (we cannot reject the null hypothesis). The variable p should\n",
    "    be equal to the exact p value returned from scipy.stats.ttest_ind(). The\n",
    "    value for better should be either \"university town\" or \"non-university town\"\n",
    "    depending on which has a lower mean price ratio (which is equivilent to a\n",
    "    reduced market loss).'''\n",
    "    \n",
    "    # group university and non-university towns\n",
    "    univ_towns = get_list_of_university_towns()\n",
    "    univ_towns['Location'] = univ_towns[['State', 'RegionName']].apply(tuple, axis=1)\n",
    "\n",
    "    # get home sales data\n",
    "    sales_df = convert_housing_data_to_quarters().reset_index()\n",
    "    sales_df['Location'] = sales_df[['State', 'RegionName']].apply(tuple, axis=1)\n",
    "\n",
    "    # calculate the ratio of prices from the start to the bottom of the recession\n",
    "    # smaller values indicates that homes retained their value during the recession\n",
    "    sales_df['Price_Ratio'] = sales_df.loc[:, get_recession_start()] / sales_df.loc[:, get_recession_bottom()]\n",
    "    sales_df = sales_df.loc[:, ['Location', 'Price_Ratio']]\n",
    "    sales_df = sales_df.dropna()\n",
    "\n",
    "    # home sales data series for university and other towns\n",
    "    is_univ = sales_df.Location.isin(univ_towns.Location)\n",
    "    univ_sales_df = sales_df.loc[is_univ]\n",
    "    other_sales_df = sales_df.loc[~is_univ]\n",
    "\n",
    "    # compare the means of median home prices\n",
    "    _, p_value = ttest_ind(other_sales_df.Price_Ratio.values, univ_sales_df.Price_Ratio.values)\n",
    "\n",
    "    # interpret the results\n",
    "    if p_value < 0.01:\n",
    "        # reject null hypothesis --> population means are different\n",
    "        different = True\n",
    "        better = 'university town'\n",
    "    else:\n",
    "        # accept null hypothesis --> population means are the same\n",
    "        different = False\n",
    "        better = 'non-university town'\n",
    "\n",
    "    # return results\n",
    "    return different, p_value, better\n"
   ]
  },
  {
   "cell_type": "code",
   "execution_count": null,
   "metadata": {},
   "outputs": [],
   "source": [
    "run_ttest()"
   ]
  },
  {
   "cell_type": "markdown",
   "metadata": {},
   "source": [
    "## Results\n",
    "\n",
    "**I find that median home prices in college towns declined less than other towns during the recession that started in late 2008.  There is 1 in 100 chance that this conclusion is wrong but that is a chance I am willing to take.**  "
   ]
  }
 ],
 "metadata": {
  "coursera": {
   "course_slug": "python-data-analysis",
   "graded_item_id": "Il9Fx",
   "launcher_item_id": "TeDW0",
   "part_id": "WGlun"
  },
  "kernelspec": {
   "display_name": "Python 3",
   "language": "python",
   "name": "python3"
  },
  "language_info": {
   "codemirror_mode": {
    "name": "ipython",
    "version": 3
   },
   "file_extension": ".py",
   "mimetype": "text/x-python",
   "name": "python",
   "nbconvert_exporter": "python",
   "pygments_lexer": "ipython3",
   "version": "3.7.3"
  }
 },
 "nbformat": 4,
 "nbformat_minor": 2
}
